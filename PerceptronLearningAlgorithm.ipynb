{
  "nbformat": 4,
  "nbformat_minor": 0,
  "metadata": {
    "colab": {
      "provenance": [],
      "authorship_tag": "ABX9TyOUVXLebkt5J5VMhyQHRoQS",
      "include_colab_link": true
    },
    "kernelspec": {
      "name": "python3",
      "display_name": "Python 3"
    },
    "language_info": {
      "name": "python"
    }
  },
  "cells": [
    {
      "cell_type": "markdown",
      "metadata": {
        "id": "view-in-github",
        "colab_type": "text"
      },
      "source": [
        "<a href=\"https://colab.research.google.com/github/zeynepsenatatli/PerceptronLearningAlgorithm/blob/main/PerceptronLearningAlgorithm.ipynb\" target=\"_parent\"><img src=\"https://colab.research.google.com/assets/colab-badge.svg\" alt=\"Open In Colab\"/></a>"
      ]
    },
    {
      "cell_type": "markdown",
      "source": [
        "## 1 - Imports\n"
      ],
      "metadata": {
        "id": "OGm1lz1iAQVF"
      }
    },
    {
      "cell_type": "code",
      "execution_count": null,
      "metadata": {
        "id": "jWwqABtA-ZNW"
      },
      "outputs": [],
      "source": [
        "import numpy as np\n",
        "import matplotlib.pyplot as plt\n",
        "import matplotlib.lines as mlines\n",
        "import sklearn.datasets\n",
        "import h5py\n",
        "import scipy\n",
        "from scipy import ndimage\n",
        "from scipy.special import expit\n",
        "from PIL import Image\n",
        "\n",
        "%matplotlib inline"
      ]
    },
    {
      "cell_type": "markdown",
      "source": [
        "## 2 - Dataset"
      ],
      "metadata": {
        "id": "XEWdZ4W1AzFP"
      }
    },
    {
      "cell_type": "code",
      "source": [
        "# Generate the data points. \n",
        "# return X: array containing one data point per column : shape (2,m) \n",
        "def generate_points(m=10, seed=42):\n",
        "  X = []\n",
        "  np.random.seed(seed)\n",
        "\n",
        "  X = np.random.uniform(-1, 1, size=(2, m))\n",
        "  \n",
        "  # --> You might use the numpy function \"randint\".\n",
        "  return X"
      ],
      "metadata": {
        "id": "325p1r6TA3sr"
      },
      "execution_count": null,
      "outputs": []
    },
    {
      "cell_type": "code",
      "source": [
        "# Generate random decision boundary\n",
        "# return w: weight vector representing decision boundary, of shape (3,1)\n",
        "def random_boundary(seed=42):\n",
        "  rng = np.random.RandomState(seed)\n",
        "\n",
        "  # generate two random points A and B\n",
        "  A, B = rng.uniform(-1, 1, size=(2, 2))\n",
        "\n",
        "  # calculate vector w\n",
        "  m = (B[1] - A[1]) / (B[0] - A[0])\n",
        "\n",
        "  # calculating w vector with equation rules\n",
        "  # w1 * x1 + w2 * x2 + w0 = 0\n",
        "  # m = - (w1 / w2)\n",
        "\n",
        "  w1 = m\n",
        "  w2 = -1\n",
        "  w0 = -(w1*A[0] + w2*A[1])\n",
        "\n",
        "  w = [w0, w1, w2]\n",
        "  w = np.reshape(w, (3,1))\n",
        "  return w"
      ],
      "metadata": {
        "id": "0wkM6OszA4LM"
      },
      "execution_count": null,
      "outputs": []
    },
    {
      "cell_type": "code",
      "source": [
        "# Define function that calculates predictions\n",
        "# input w : weight vector chracterising perceptron model : of shape (3,1)\n",
        "# input X_ext : data matrix X, extended by a row of ones : of shape (3,m)\n",
        "# return predictions : sign(w.transpose * x) : of shape (1,m)\n",
        "\n",
        "def predict(w, X_ext):\n",
        "  # --> you might want to use np.matmul()\n",
        "  predictions = np.matmul(np.transpose(w), X_ext)\n",
        "\n",
        "  predictions = np.where(predictions > 0, 1, -1)\n",
        "\n",
        "  predictions = np.reshape(predictions, (1, X.shape[1]))\n",
        "  return predictions\n",
        "\n"
      ],
      "metadata": {
        "id": "Ujo5P0oCA6HH"
      },
      "execution_count": null,
      "outputs": []
    },
    {
      "cell_type": "code",
      "source": [
        "m = 10\n",
        "\n",
        "# Generate m random data points. X has shape (2,m)\n",
        "X = generate_points(m)\n",
        "# add a row of ones. X_ext has shape (3,m)\n",
        "X_ext = np.vstack((np.ones((1,X.shape[1])), X))\n",
        "\n",
        "# Generate random boundary. w has shape (3,1)\n",
        "w = random_boundary()\n",
        "\n",
        "# Generate labels. Y has shape (1,m)\n",
        "Y = predict(w, X_ext)"
      ],
      "metadata": {
        "id": "404rob_tA7yE"
      },
      "execution_count": null,
      "outputs": []
    },
    {
      "cell_type": "code",
      "source": [
        "# Visualize the data and the decision boundary\n",
        "fig, ax = plt.subplots()\n",
        "ax.scatter(X[0, :], X[1, :], marker='o', c=Y, s=25, edgecolor='k')\n",
        "\n",
        "# the decision boundary chracterized by vector w\n",
        "xp = np.array((-1,1))\n",
        "yp = -(w[1]/w[2]) * xp - (w[0]/w[2])\n",
        "\n",
        "plt.axis([-1.1, 1.1, -1.1, 1.1])\n",
        "plt.plot(xp, yp, \"r-\") # decision boundary\n",
        "plt.show()"
      ],
      "metadata": {
        "id": "SdZjbNUdBB5u",
        "colab": {
          "base_uri": "https://localhost:8080/",
          "height": 265
        },
        "outputId": "e42e6af7-379c-47c1-b31f-4f6f68636d3a"
      },
      "execution_count": null,
      "outputs": [
        {
          "output_type": "display_data",
          "data": {
            "text/plain": [
              "<Figure size 432x288 with 1 Axes>"
            ],
            "image/png": "[encoded data removed]"
          },
          "metadata": {
            "needs_background": "light"
          }
        }
      ]
    },
    {
      "cell_type": "code",
      "source": [
        "def visual(X, Y, w):\n",
        "   # Visualize the data and the decision boundary\n",
        "  fig, ax = plt.subplots()\n",
        "  ax.scatter(X[0, :], X[1, :], marker='o', c=Y, s=25, edgecolor='k')\n",
        "\n",
        "  # the decision boundary chracterized by vector w\n",
        "  xp = np.array((-1,1))\n",
        "  yp = -(w_[1]/w_[2]) * xp - (w_[0]/w_[2])\n",
        "\n",
        "  plt.axis([-1.1, 1.1, -1.1, 1.1])\n",
        "  plt.plot(xp, yp, \"r-\") # decision boundary\n",
        "  plt.show()"
      ],
      "metadata": {
        "id": "VxZOF1RVxPWA"
      },
      "execution_count": null,
      "outputs": []
    },
    {
      "cell_type": "code",
      "source": [
        "# Example of a point\n",
        "index = 3\n",
        "print(\"Point #\" + str(index) + \" is \" + str(X[:,index]))\n",
        "print(\"Class #\" + str(index) + \" is \" + str(Y[0,index]))"
      ],
      "metadata": {
        "id": "1ubdCq8TBCRm",
        "colab": {
          "base_uri": "https://localhost:8080/"
        },
        "outputId": "1e1e222d-8c47-423a-a0ed-01792e122656"
      },
      "execution_count": null,
      "outputs": [
        {
          "output_type": "stream",
          "name": "stdout",
          "text": [
            "Point #3 is [ 0.19731697 -0.57532178]\n",
            "Class #3 is 1\n"
          ]
        }
      ]
    },
    {
      "cell_type": "markdown",
      "source": [
        "## 3 - Training"
      ],
      "metadata": {
        "id": "Ifqec7HDBPgX"
      }
    },
    {
      "cell_type": "code",
      "source": [
        "# Define function for weight update\n",
        "\n",
        "# input w : current weight vector with shape (3,1)\n",
        "# input x : misclassified data point (should have shape (3,1))\n",
        "# input y : label of data point x (scalar)\n",
        "\n",
        "# return new_w : updated weight vector\n",
        "def weight_update(w, x, y, learning_rate):\n",
        "  \n",
        "  new_w = w + (learning_rate * (y - (-y)))*x\n",
        "\n",
        "  new_w = np.reshape(new_w, (3,1))\n",
        "  return new_w"
      ],
      "metadata": {
        "id": "VsvZscveBQrT"
      },
      "execution_count": null,
      "outputs": []
    },
    {
      "cell_type": "markdown",
      "source": [
        "### Perceptron"
      ],
      "metadata": {
        "id": "RzRpUbJB9MvK"
      }
    },
    {
      "cell_type": "code",
      "source": [
        "# Initialize weight vector w_ with 0. \n",
        "\n",
        "w_ = np.zeros(3)\n",
        "w_ = np.reshape(w_, (3,1))\n",
        "\n",
        "learning_rate = 1\n",
        "num_iterations = 10\n",
        "\n",
        "# initialize array to save number of misclassified points in each iteration\n",
        "num_misses = np.zeros(num_iterations)\n",
        "\n",
        "for i in range(num_iterations):\n",
        "\n",
        "  # calculate predictions for all points\n",
        "  predictions = predict(w_, X_ext)\n",
        "\n",
        "  # identify indices of misclassified points\n",
        "  indices = np.where(Y[0]!=predictions[0], 1, 0)\n",
        "\n",
        "  # calculate and save number of misclassified points \n",
        "  # break if there are none\n",
        "  for k in indices:\n",
        "    if k == 1:\n",
        "      num_misses[i]+=1\n",
        "\n",
        "  if num_misses[i] == 0: break\n",
        "  \n",
        "  # select random misclassified index\n",
        "  selected_i = np.random.randint(0, len(indices))\n",
        "  while indices[selected_i] == 0: selected_i = np.random.randint(0, len(indices))\n",
        "\n",
        "  # perform one weight update using datapoint at selected index\n",
        "  selected_data = [X_ext[0][selected_i], X_ext[1][selected_i], X_ext[2][selected_i]]\n",
        "  selected_data = np.reshape(selected_data, (3,1))\n",
        "\n",
        "  w_ = weight_update(w_, selected_data, Y[0][selected_i], learning_rate)\n",
        " \n",
        "visual(X, Y, w_)\n",
        "x = np.array(range(0, num_iterations))\n",
        "y = np.array(num_misses)"
      ],
      "metadata": {
        "id": "GiB1XqJYBSEa",
        "colab": {
          "base_uri": "https://localhost:8080/",
          "height": 265
        },
        "outputId": "c1ffb3be-5db6-405b-e78b-4faf53e66402"
      },
      "execution_count": null,
      "outputs": [
        {
          "output_type": "display_data",
          "data": {
            "text/plain": [
              "<Figure size 432x288 with 1 Axes>"
            ],
            "image/png": "[encoded data removed]"
          },
          "metadata": {
            "needs_background": "light"
          }
        }
      ]
    },
    {
      "cell_type": "markdown",
      "source": [
        "## 4 - Experimente"
      ],
      "metadata": {
        "id": "3aToOwAz6m5q"
      }
    },
    {
      "cell_type": "markdown",
      "source": [
        "### Experiment 1: m = 10, learning_rate = 1, num_iterations = 10"
      ],
      "metadata": {
        "id": "zjBMZvmv9bwl"
      }
    },
    {
      "cell_type": "code",
      "source": [
        "w_ = np.zeros(3)\n",
        "w_ = np.reshape(w_, (3,1))\n",
        "\n",
        "learning_rate = 1\n",
        "num_iterations = 10\n",
        "\n",
        "num_misses = np.zeros(num_iterations)\n",
        "\n",
        "stepstoSolution = np.zeros(1000)\n",
        "\n",
        "for j in range(0,1000):\n",
        "\n",
        "  w_ = np.zeros(3)\n",
        "  w_ = np.reshape(w_, (3,1))\n",
        "  num_misses = np.zeros(num_iterations)\n",
        "  \n",
        "  for i in range(num_iterations):\n",
        "\n",
        "    predictions = predict(w_, X_ext)\n",
        "    indices = np.where(Y[0]!=predictions[0], 1, 0)\n",
        "\n",
        "    for k in indices:\n",
        "      if k == 1:\n",
        "        num_misses[i]+=1\n",
        "\n",
        "    if num_misses[i] == 0: \n",
        "      stepstoSolution[j] = i\n",
        "      break\n",
        "    \n",
        "    selected_i = np.random.randint(0, len(indices))\n",
        "    \n",
        "    while indices[selected_i] == 0: selected_i = np.random.randint(0, len(indices))\n",
        "\n",
        "    selected_data = [X_ext[0][selected_i], X_ext[1][selected_i], X_ext[2][selected_i]]\n",
        "    selected_data = np.reshape(selected_data, (3,1))\n",
        "\n",
        "    w_ = weight_update(w_, selected_data, Y[0][selected_i], learning_rate)\n"
      ],
      "metadata": {
        "id": "FqupQLbkmEtz"
      },
      "execution_count": null,
      "outputs": []
    },
    {
      "cell_type": "code",
      "source": [
        "mean = np.nanmean(stepstoSolution)\n",
        "\n",
        "x = np.array(range(0, 1000))\n",
        "\n",
        "stepstoSolution[stepstoSolution == 0] = np.NaN\n",
        "y = np.array(stepstoSolution)\n",
        "\n",
        "fig, axes = plt.subplots(figsize=(10,6))\n",
        "axes.scatter(x, y)\n",
        "axes.set_xlabel(\"runs\")\n",
        "axes.set_ylabel(\"step with solution\")\n",
        "\n",
        "print(\"mean: \" + str(mean))"
      ],
      "metadata": {
        "colab": {
          "base_uri": "https://localhost:8080/",
          "height": 405
        },
        "id": "Nrcv6MnzpdQj",
        "outputId": "2b65cf09-6bac-45d3-cf9d-5b843594fb38"
      },
      "execution_count": null,
      "outputs": [
        {
          "output_type": "stream",
          "name": "stdout",
          "text": [
            "mean: 4.101\n"
          ]
        },
        {
          "output_type": "display_data",
          "data": {
            "text/plain": [
              "<Figure size 720x432 with 1 Axes>"
            ],
            "image/png": "[encoded data removed]"
          },
          "metadata": {
            "needs_background": "light"
          }
        }
      ]
    },
    {
      "cell_type": "markdown",
      "source": [
        "### Experiment 2: m = 100, learning_rate = 1, num_iterations = 100"
      ],
      "metadata": {
        "id": "Y0xlkyet92TA"
      }
    },
    {
      "cell_type": "code",
      "source": [
        "m = 100\n",
        "\n",
        "X = generate_points(m)\n",
        "\n",
        "X_ext = np.vstack((np.ones((1,X.shape[1])), X))\n",
        "\n",
        "w = random_boundary()\n",
        "\n",
        "Y = predict(w, X_ext)"
      ],
      "metadata": {
        "id": "rJbNCrZK-Aws"
      },
      "execution_count": null,
      "outputs": []
    },
    {
      "cell_type": "code",
      "source": [
        "w_ = np.zeros(3)\n",
        "w_ = np.reshape(w_, (3,1))\n",
        "\n",
        "learning_rate = 1\n",
        "num_iterations = 100\n",
        "\n",
        "num_misses = np.zeros(num_iterations)\n",
        "\n",
        "stepstoSolution = np.zeros(1000)\n",
        "\n",
        "for j in range(0,1000):\n",
        "\n",
        "  w_ = np.zeros(3)\n",
        "  w_ = np.reshape(w_, (3,1))\n",
        "  num_misses = np.zeros(num_iterations)\n",
        "  \n",
        "  for i in range(num_iterations):\n",
        "\n",
        "    predictions = predict(w_, X_ext)\n",
        "    indices = np.where(Y[0]!=predictions[0], 1, 0)\n",
        "\n",
        "    for k in indices:\n",
        "      if k == 1:\n",
        "        num_misses[i]+=1\n",
        "\n",
        "    if num_misses[i] == 0: \n",
        "      stepstoSolution[j] = i\n",
        "      break\n",
        "    \n",
        "    selected_i = np.random.randint(0, len(indices))\n",
        "    \n",
        "    while indices[selected_i] == 0: selected_i = np.random.randint(0, len(indices))\n",
        "\n",
        "    selected_data = [X_ext[0][selected_i], X_ext[1][selected_i], X_ext[2][selected_i]]\n",
        "    selected_data = np.reshape(selected_data, (3,1))\n",
        "\n",
        "    w_ = weight_update(w_, selected_data, Y[0][selected_i], learning_rate)"
      ],
      "metadata": {
        "id": "bdT9JWgx6JkI"
      },
      "execution_count": null,
      "outputs": []
    },
    {
      "cell_type": "code",
      "source": [
        "mean = np.nanmean(stepstoSolution)\n",
        "\n",
        "x = np.array(range(0, 1000))\n",
        "\n",
        "stepstoSolution[stepstoSolution == 0] = np.NaN\n",
        "y = np.array(stepstoSolution)\n",
        "\n",
        "fig, axes = plt.subplots(figsize=(10,6))\n",
        "axes.scatter(x, y)\n",
        "axes.set_xlabel(\"runs\")\n",
        "axes.set_ylabel(\"step with solution\")\n",
        "\n",
        "print(\"mean: \" + str(mean))"
      ],
      "metadata": {
        "colab": {
          "base_uri": "https://localhost:8080/",
          "height": 405
        },
        "id": "cyz0MYT1-NnW",
        "outputId": "4184761d-4c26-48d7-f73a-404d551f4d2d"
      },
      "execution_count": null,
      "outputs": [
        {
          "output_type": "stream",
          "name": "stdout",
          "text": [
            "mean: 40.757\n"
          ]
        },
        {
          "output_type": "display_data",
          "data": {
            "text/plain": [
              "<Figure size 720x432 with 1 Axes>"
            ],
            "image/png": "[encoded data removed]"
          },
          "metadata": {
            "needs_background": "light"
          }
        }
      ]
    },
    {
      "cell_type": "markdown",
      "source": [
        "### Experiment 3: m = 100, learning_rate = 0.1, num_iterations = 100"
      ],
      "metadata": {
        "id": "4icIBNUb-gIR"
      }
    },
    {
      "cell_type": "code",
      "source": [
        "m = 100\n",
        "\n",
        "X = generate_points(m)\n",
        "\n",
        "X_ext = np.vstack((np.ones((1,X.shape[1])), X))\n",
        "\n",
        "w = random_boundary()\n",
        "\n",
        "Y = predict(w, X_ext)"
      ],
      "metadata": {
        "id": "PyEbthpW-gIR"
      },
      "execution_count": null,
      "outputs": []
    },
    {
      "cell_type": "code",
      "source": [
        "w_ = np.zeros(3)\n",
        "w_ = np.reshape(w_, (3,1))\n",
        "\n",
        "learning_rate = 0.1\n",
        "num_iterations = 100\n",
        "\n",
        "num_misses = np.zeros(num_iterations)\n",
        "\n",
        "stepstoSolution = np.zeros(1000)\n",
        "\n",
        "for j in range(0,1000):\n",
        "\n",
        "  w_ = np.zeros(3)\n",
        "  w_ = np.reshape(w_, (3,1))\n",
        "  num_misses = np.zeros(num_iterations)\n",
        "  \n",
        "  for i in range(num_iterations):\n",
        "\n",
        "    predictions = predict(w_, X_ext)\n",
        "    indices = np.where(Y[0]!=predictions[0], 1, 0)\n",
        "\n",
        "    for k in indices:\n",
        "      if k == 1:\n",
        "        num_misses[i]+=1\n",
        "\n",
        "    if num_misses[i] == 0: \n",
        "      stepstoSolution[j] = i\n",
        "      break\n",
        "    \n",
        "    selected_i = np.random.randint(0, len(indices))\n",
        "    \n",
        "    while indices[selected_i] == 0: selected_i = np.random.randint(0, len(indices))\n",
        "\n",
        "    selected_data = [X_ext[0][selected_i], X_ext[1][selected_i], X_ext[2][selected_i]]\n",
        "    selected_data = np.reshape(selected_data, (3,1))\n",
        "\n",
        "    w_ = weight_update(w_, selected_data, Y[0][selected_i], learning_rate)"
      ],
      "metadata": {
        "id": "TomY9aR9-gIS"
      },
      "execution_count": null,
      "outputs": []
    },
    {
      "cell_type": "code",
      "source": [
        "mean = np.nanmean(stepstoSolution)\n",
        "\n",
        "x = np.array(range(0, 1000))\n",
        "\n",
        "stepstoSolution[stepstoSolution == 0] = np.NaN\n",
        "y = np.array(stepstoSolution)\n",
        "\n",
        "fig, axes = plt.subplots(figsize=(10,6))\n",
        "axes.scatter(x, y)\n",
        "axes.set_xlabel(\"runs\")\n",
        "axes.set_ylabel(\"step with solution\")\n",
        "\n",
        "print(\"mean: \" + str(mean))"
      ],
      "metadata": {
        "colab": {
          "base_uri": "https://localhost:8080/",
          "height": 405
        },
        "outputId": "65cb364e-9f65-4a4a-8fd4-7b608384f2e5",
        "id": "zDSZhJdO-gIS"
      },
      "execution_count": null,
      "outputs": [
        {
          "output_type": "stream",
          "name": "stdout",
          "text": [
            "mean: 41.189\n"
          ]
        },
        {
          "output_type": "display_data",
          "data": {
            "text/plain": [
              "<Figure size 720x432 with 1 Axes>"
            ],
            "image/png": "[encoded data removed]"
          },
          "metadata": {
            "needs_background": "light"
          }
        }
      ]
    },
    {
      "cell_type": "markdown",
      "source": [
        "### Experiment 4: m = 1000, learning_rate = 1, num_iterations = 1000"
      ],
      "metadata": {
        "id": "JOKTbVDSBJ1Z"
      }
    },
    {
      "cell_type": "code",
      "source": [
        "m = 1000\n",
        "\n",
        "X = generate_points(m)\n",
        "\n",
        "X_ext = np.vstack((np.ones((1,X.shape[1])), X))\n",
        "\n",
        "w = random_boundary()\n",
        "\n",
        "Y = predict(w, X_ext)"
      ],
      "metadata": {
        "id": "GT4kARXpBJ1Z"
      },
      "execution_count": null,
      "outputs": []
    },
    {
      "cell_type": "code",
      "source": [
        "w_ = np.zeros(3)\n",
        "w_ = np.reshape(w_, (3,1))\n",
        "\n",
        "learning_rate = 1\n",
        "num_iterations = 1000\n",
        "\n",
        "num_misses = np.zeros(num_iterations)\n",
        "\n",
        "stepstoSolution = np.zeros(500)\n",
        "\n",
        "for j in range(0,500):\n",
        "\n",
        "  w_ = np.zeros(3)\n",
        "  w_ = np.reshape(w_, (3,1))\n",
        "  num_misses = np.zeros(num_iterations)\n",
        "  \n",
        "  for i in range(num_iterations):\n",
        "\n",
        "    predictions = predict(w_, X_ext)\n",
        "    indices = np.where(Y[0]!=predictions[0], 1, 0)\n",
        "\n",
        "    for k in indices:\n",
        "      if k == 1:\n",
        "        num_misses[i]+=1\n",
        "\n",
        "    if num_misses[i] == 0: \n",
        "      stepstoSolution[j] = i\n",
        "      break\n",
        "    \n",
        "    selected_i = np.random.randint(0, len(indices))\n",
        "    \n",
        "    while indices[selected_i] == 0: selected_i = np.random.randint(0, len(indices))\n",
        "\n",
        "    selected_data = [X_ext[0][selected_i], X_ext[1][selected_i], X_ext[2][selected_i]]\n",
        "    selected_data = np.reshape(selected_data, (3,1))\n",
        "\n",
        "    w_ = weight_update(w_, selected_data, Y[0][selected_i], learning_rate)"
      ],
      "metadata": {
        "id": "C0X-tU8oBJ1Z"
      },
      "execution_count": null,
      "outputs": []
    },
    {
      "cell_type": "code",
      "source": [
        "mean = np.nanmean(stepstoSolution)\n",
        "\n",
        "x = np.array(range(0, 500))\n",
        "\n",
        "stepstoSolution[stepstoSolution == 0] = np.NaN\n",
        "y = np.array(stepstoSolution)\n",
        "\n",
        "fig, axes = plt.subplots(figsize=(10,6))\n",
        "axes.scatter(x, y)\n",
        "axes.set_xlabel(\"runs\")\n",
        "axes.set_ylabel(\"step with solution\")\n",
        "\n",
        "print(\"mean: \" + str(mean))"
      ],
      "metadata": {
        "colab": {
          "base_uri": "https://localhost:8080/",
          "height": 405
        },
        "outputId": "088e497c-9fea-4f7c-9a0f-ea2ece80f92a",
        "id": "PRpgUFz-BJ1a"
      },
      "execution_count": null,
      "outputs": [
        {
          "output_type": "stream",
          "name": "stdout",
          "text": [
            "mean: 386.648\n"
          ]
        },
        {
          "output_type": "display_data",
          "data": {
            "text/plain": [
              "<Figure size 720x432 with 1 Axes>"
            ],
            "image/png": "[encoded data removed]"
          },
          "metadata": {
            "needs_background": "light"
          }
        }
      ]
    },
    {
      "cell_type": "markdown",
      "source": [
        "### Experiment 4: m = 1000, learning_rate = 0.1, num_iterations = 1000"
      ],
      "metadata": {
        "id": "OzFk76QJDwbq"
      }
    },
    {
      "cell_type": "code",
      "source": [
        "m = 1000\n",
        "\n",
        "X = generate_points(m)\n",
        "\n",
        "X_ext = np.vstack((np.ones((1,X.shape[1])), X))\n",
        "\n",
        "w = random_boundary()\n",
        "\n",
        "Y = predict(w, X_ext)"
      ],
      "metadata": {
        "id": "EgnijFjCDwbw"
      },
      "execution_count": null,
      "outputs": []
    },
    {
      "cell_type": "code",
      "source": [
        "w_ = np.zeros(3)\n",
        "w_ = np.reshape(w_, (3,1))\n",
        "\n",
        "learning_rate = 1\n",
        "num_iterations = 1000\n",
        "\n",
        "num_misses = np.zeros(num_iterations)\n",
        "\n",
        "stepstoSolution = np.zeros(500)\n",
        "\n",
        "for j in range(0,500):\n",
        "\n",
        "  w_ = np.zeros(3)\n",
        "  w_ = np.reshape(w_, (3,1))\n",
        "  num_misses = np.zeros(num_iterations)\n",
        "  \n",
        "  for i in range(num_iterations):\n",
        "\n",
        "    predictions = predict(w_, X_ext)\n",
        "    indices = np.where(Y[0]!=predictions[0], 1, 0)\n",
        "\n",
        "    for k in indices:\n",
        "      if k == 1:\n",
        "        num_misses[i]+=1\n",
        "\n",
        "    if num_misses[i] == 0: \n",
        "      stepstoSolution[j] = i\n",
        "      break\n",
        "    \n",
        "    selected_i = np.random.randint(0, len(indices))\n",
        "    \n",
        "    while indices[selected_i] == 0: selected_i = np.random.randint(0, len(indices))\n",
        "\n",
        "    selected_data = [X_ext[0][selected_i], X_ext[1][selected_i], X_ext[2][selected_i]]\n",
        "    selected_data = np.reshape(selected_data, (3,1))\n",
        "\n",
        "    w_ = weight_update(w_, selected_data, Y[0][selected_i], learning_rate)"
      ],
      "metadata": {
        "id": "-5OoC745Dwbw"
      },
      "execution_count": null,
      "outputs": []
    },
    {
      "cell_type": "code",
      "source": [
        "mean = np.nanmean(stepstoSolution)\n",
        "\n",
        "x = np.array(range(0, 500))\n",
        "\n",
        "stepstoSolution[stepstoSolution == 0] = np.NaN\n",
        "y = np.array(stepstoSolution)\n",
        "\n",
        "fig, axes = plt.subplots(figsize=(10,6))\n",
        "axes.scatter(x, y)\n",
        "axes.set_xlabel(\"runs\")\n",
        "axes.set_ylabel(\"step with solution\")\n",
        "\n",
        "print(\"mean: \" + str(mean))"
      ],
      "metadata": {
        "colab": {
          "base_uri": "https://localhost:8080/",
          "height": 405
        },
        "outputId": "082246a4-f930-443d-e26a-53b0c70e4c2f",
        "id": "Y1mayoLmDwbw"
      },
      "execution_count": null,
      "outputs": [
        {
          "output_type": "stream",
          "name": "stdout",
          "text": [
            "mean: 386.648\n"
          ]
        },
        {
          "output_type": "display_data",
          "data": {
            "text/plain": [
              "<Figure size 720x432 with 1 Axes>"
            ],
            "image/png": "[encoded data removed]"
          },
          "metadata": {
            "needs_background": "light"
          }
        }
      ]
    }
  ]
}